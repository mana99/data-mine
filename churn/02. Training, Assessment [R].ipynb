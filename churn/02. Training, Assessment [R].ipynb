{
 "cells": [
  {
   "cell_type": "markdown",
   "metadata": {},
   "source": [
    "# Data mining on churn dataset\n",
    "\n",
    "In this section we'll cover the proper machine learning methods in order to build a model both accurate and able to generalise to new data. This part is in fact further divided in\n",
    "* a partitioning phase, in which the data is splitted in two subsets, called training and validation set, \n",
    "* a training phase, in which the models we choose to use are adapted to the training data,\n",
    "* and an assessment phase, in which the models are compared to get the model which is more stable to alterations in data"
   ]
  },
  {
   "cell_type": "markdown",
   "metadata": {},
   "source": [
    "Let's first import the data we processed in the previous section and take a look at it:"
   ]
  },
  {
   "cell_type": "code",
   "execution_count": 1,
   "metadata": {
    "collapsed": true
   },
   "outputs": [],
   "source": [
    "churn <- read.table('datasets/churn_working_clean.csv', header=T, sep = ',')"
   ]
  },
  {
   "cell_type": "code",
   "execution_count": 2,
   "metadata": {},
   "outputs": [
    {
     "name": "stdout",
     "output_type": "stream",
     "text": [
      "'data.frame':\t2333 obs. of  8 variables:\n",
      " $ X             : int  0 1 2 3 4 5 6 7 8 9 ...\n",
      " $ Int.l.Plan    : Factor w/ 2 levels \"False\",\"True\": 1 1 1 1 1 1 1 1 1 2 ...\n",
      " $ VMail.Plan    : Factor w/ 2 levels \"False\",\"True\": 1 1 2 1 1 1 1 1 2 1 ...\n",
      " $ Day.Mins      : num  131 185 176 132 200 ...\n",
      " $ Intl.Mins     : num  15.6 14.1 8.6 10.7 11.3 12.2 11.9 6.9 11.8 13.8 ...\n",
      " $ Intl.Calls    : int  3 3 3 3 7 2 6 5 5 2 ...\n",
      " $ CustServ.Calls: int  3 3 2 1 1 1 1 2 1 1 ...\n",
      " $ Churn         : Factor w/ 2 levels \"False\",\"True\": 1 1 1 1 1 1 1 1 1 2 ...\n"
     ]
    }
   ],
   "source": [
    "#info\n",
    "str(churn)"
   ]
  },
  {
   "cell_type": "code",
   "execution_count": 3,
   "metadata": {},
   "outputs": [
    {
     "data": {
      "text/html": [
       "<table>\n",
       "<thead><tr><th scope=col>X</th><th scope=col>Int.l.Plan</th><th scope=col>VMail.Plan</th><th scope=col>Day.Mins</th><th scope=col>Intl.Mins</th><th scope=col>Intl.Calls</th><th scope=col>CustServ.Calls</th><th scope=col>Churn</th></tr></thead>\n",
       "<tbody>\n",
       "\t<tr><td>0    </td><td>False</td><td>False</td><td>130.6</td><td>15.6 </td><td>3    </td><td>3    </td><td>False</td></tr>\n",
       "\t<tr><td>1    </td><td>False</td><td>False</td><td>185.0</td><td>14.1 </td><td>3    </td><td>3    </td><td>False</td></tr>\n",
       "\t<tr><td>2    </td><td>False</td><td>True </td><td>175.7</td><td> 8.6 </td><td>3    </td><td>2    </td><td>False</td></tr>\n",
       "\t<tr><td>3    </td><td>False</td><td>False</td><td>131.7</td><td>10.7 </td><td>3    </td><td>1    </td><td>False</td></tr>\n",
       "\t<tr><td>4    </td><td>False</td><td>False</td><td>199.9</td><td>11.3 </td><td>7    </td><td>1    </td><td>False</td></tr>\n",
       "</tbody>\n",
       "</table>\n"
      ],
      "text/latex": [
       "\\begin{tabular}{r|llllllll}\n",
       " X & Int.l.Plan & VMail.Plan & Day.Mins & Intl.Mins & Intl.Calls & CustServ.Calls & Churn\\\\\n",
       "\\hline\n",
       "\t 0     & False & False & 130.6 & 15.6  & 3     & 3     & False\\\\\n",
       "\t 1     & False & False & 185.0 & 14.1  & 3     & 3     & False\\\\\n",
       "\t 2     & False & True  & 175.7 &  8.6  & 3     & 2     & False\\\\\n",
       "\t 3     & False & False & 131.7 & 10.7  & 3     & 1     & False\\\\\n",
       "\t 4     & False & False & 199.9 & 11.3  & 7     & 1     & False\\\\\n",
       "\\end{tabular}\n"
      ],
      "text/markdown": [
       "\n",
       "X | Int.l.Plan | VMail.Plan | Day.Mins | Intl.Mins | Intl.Calls | CustServ.Calls | Churn | \n",
       "|---|---|---|---|---|\n",
       "| 0     | False | False | 130.6 | 15.6  | 3     | 3     | False | \n",
       "| 1     | False | False | 185.0 | 14.1  | 3     | 3     | False | \n",
       "| 2     | False | True  | 175.7 |  8.6  | 3     | 2     | False | \n",
       "| 3     | False | False | 131.7 | 10.7  | 3     | 1     | False | \n",
       "| 4     | False | False | 199.9 | 11.3  | 7     | 1     | False | \n",
       "\n",
       "\n"
      ],
      "text/plain": [
       "  X Int.l.Plan VMail.Plan Day.Mins Intl.Mins Intl.Calls CustServ.Calls Churn\n",
       "1 0 False      False      130.6    15.6      3          3              False\n",
       "2 1 False      False      185.0    14.1      3          3              False\n",
       "3 2 False      True       175.7     8.6      3          2              False\n",
       "4 3 False      False      131.7    10.7      3          1              False\n",
       "5 4 False      False      199.9    11.3      7          1              False"
      ]
     },
     "metadata": {},
     "output_type": "display_data"
    }
   ],
   "source": [
    "#head\n",
    "churn[1:5,]"
   ]
  },
  {
   "cell_type": "markdown",
   "metadata": {},
   "source": [
    "We can eliminate the first column, which is just an index:"
   ]
  },
  {
   "cell_type": "code",
   "execution_count": 4,
   "metadata": {},
   "outputs": [
    {
     "data": {
      "text/html": [
       "<table>\n",
       "<thead><tr><th scope=col>Int.l.Plan</th><th scope=col>VMail.Plan</th><th scope=col>Day.Mins</th><th scope=col>Intl.Mins</th><th scope=col>Intl.Calls</th><th scope=col>CustServ.Calls</th><th scope=col>Churn</th></tr></thead>\n",
       "<tbody>\n",
       "\t<tr><td>False</td><td>False</td><td>130.6</td><td>15.6 </td><td>3    </td><td>3    </td><td>False</td></tr>\n",
       "\t<tr><td>False</td><td>False</td><td>185.0</td><td>14.1 </td><td>3    </td><td>3    </td><td>False</td></tr>\n",
       "\t<tr><td>False</td><td>True </td><td>175.7</td><td> 8.6 </td><td>3    </td><td>2    </td><td>False</td></tr>\n",
       "\t<tr><td>False</td><td>False</td><td>131.7</td><td>10.7 </td><td>3    </td><td>1    </td><td>False</td></tr>\n",
       "\t<tr><td>False</td><td>False</td><td>199.9</td><td>11.3 </td><td>7    </td><td>1    </td><td>False</td></tr>\n",
       "</tbody>\n",
       "</table>\n"
      ],
      "text/latex": [
       "\\begin{tabular}{r|lllllll}\n",
       " Int.l.Plan & VMail.Plan & Day.Mins & Intl.Mins & Intl.Calls & CustServ.Calls & Churn\\\\\n",
       "\\hline\n",
       "\t False & False & 130.6 & 15.6  & 3     & 3     & False\\\\\n",
       "\t False & False & 185.0 & 14.1  & 3     & 3     & False\\\\\n",
       "\t False & True  & 175.7 &  8.6  & 3     & 2     & False\\\\\n",
       "\t False & False & 131.7 & 10.7  & 3     & 1     & False\\\\\n",
       "\t False & False & 199.9 & 11.3  & 7     & 1     & False\\\\\n",
       "\\end{tabular}\n"
      ],
      "text/markdown": [
       "\n",
       "Int.l.Plan | VMail.Plan | Day.Mins | Intl.Mins | Intl.Calls | CustServ.Calls | Churn | \n",
       "|---|---|---|---|---|\n",
       "| False | False | 130.6 | 15.6  | 3     | 3     | False | \n",
       "| False | False | 185.0 | 14.1  | 3     | 3     | False | \n",
       "| False | True  | 175.7 |  8.6  | 3     | 2     | False | \n",
       "| False | False | 131.7 | 10.7  | 3     | 1     | False | \n",
       "| False | False | 199.9 | 11.3  | 7     | 1     | False | \n",
       "\n",
       "\n"
      ],
      "text/plain": [
       "  Int.l.Plan VMail.Plan Day.Mins Intl.Mins Intl.Calls CustServ.Calls Churn\n",
       "1 False      False      130.6    15.6      3          3              False\n",
       "2 False      False      185.0    14.1      3          3              False\n",
       "3 False      True       175.7     8.6      3          2              False\n",
       "4 False      False      131.7    10.7      3          1              False\n",
       "5 False      False      199.9    11.3      7          1              False"
      ]
     },
     "metadata": {},
     "output_type": "display_data"
    }
   ],
   "source": [
    "churn = subset(churn, select = -1 )\n",
    "churn[1:5,]"
   ]
  },
  {
   "cell_type": "markdown",
   "metadata": {},
   "source": [
    "## Partitioning\n",
    "\n",
    "In order to compare the adaptation to the data we can compare metrics on the examples used for training, but if we want to compare generalization, we need new data. \n",
    "The best model will be determined by a trade-off between the error functions measured on these different sets of data.\n",
    "\n",
    "If we don't have already two datasets, we can partition the datasets in order to get two different subsets. The dataset used to train the algorithm is usually called training set, while the one used for the assessment phase which compare the generalization of the models, is usually called validation set.\n",
    "\n",
    "Many partitioning methods are possible; in this case we opt for an _holdout validation_, which simply generates two datasets from the original one, assigning to each one a different proportion. We decide to set the ratio to 70:30 which is pretty reasonable in case of few data, as in the current scenario.\n",
    "\n",
    "A better decision would be a _k-fold_ cross-validation, particularely useful in case we are really short of training data, which we may implement later."
   ]
  },
  {
   "cell_type": "code",
   "execution_count": 5,
   "metadata": {
    "collapsed": true
   },
   "outputs": [],
   "source": [
    "set.seed(99)\n",
    "splitSample <- sample(3, size=nrow(churn), prob=c(0.6,0.2,0.2), replace = TRUE)\n",
    "churn_train = data.frame(churn[splitSample==1,])\n",
    "churn_valid = data.frame(churn[splitSample==2,])\n",
    "churn_test  = data.frame(churn[splitSample==3,])"
   ]
  },
  {
   "cell_type": "markdown",
   "metadata": {},
   "source": [
    "## Model Training"
   ]
  },
  {
   "cell_type": "markdown",
   "metadata": {},
   "source": [
    "The problem we are considering is a supervised classification problem. Many models can be adopted to classify a target, but in our study we will limit ourselves to the following models:\n",
    "\n",
    "* Logistic Regression\n",
    "* Decision Tree\n",
    "* Boosted Tree\n",
    "* Random Forest\n",
    "\n",
    "Each model will be briefly described when trained. Note that in a binary classification problem we have to specify the event we are referring to in the costruction and evaluation of the models: here all the models will refer to the event 'Churn = yes'."
   ]
  },
  {
   "cell_type": "markdown",
   "metadata": {},
   "source": [
    "### Logistic regression\n",
    "\n",
    "Given the predicted target $\\hat{y}$, the parameters vector $\\theta$ and the equation that describes the model $h_{\\theta}(x)$, called model hypothesis, [logistic regression](https://en.wikipedia.org/wiki/Logistic_regression) can be described by the following equation:\n",
    "\n",
    "$\\hat{y} = h_{\\theta}(x) = \\text{sigmoid} \\left( f(x) \\right)$\n",
    "\n",
    "where _sigmoid_ is a function defined as $\\text{sigmoid} (z)=\\frac{1}{1+e^{-z}}$ and $f(x)$ indicates any function of the features $x$, usually a linear function $\\theta^T x$.\n",
    "This formulation is also equivalent to $\\text{logit}(h_\\theta(x)) = f(x)$, where _logit_ is a function defined as $\\text{logit}(z) = \\ln \\left( \\frac{z}{1-z} \\right)$."
   ]
  },
  {
   "cell_type": "markdown",
   "metadata": {},
   "source": [
    "In R, we make use of the [glm](https://cran.r-project.org/package=glm2) package, to fit the linear combination of the features to the logit of the target:"
   ]
  },
  {
   "cell_type": "code",
   "execution_count": 6,
   "metadata": {},
   "outputs": [
    {
     "data": {
      "text/plain": [
       "\n",
       "Call:\n",
       "glm(formula = Churn ~ ., family = binomial(link = \"logit\"), data = churn_train)\n",
       "\n",
       "Deviance Residuals: \n",
       "    Min       1Q   Median       3Q      Max  \n",
       "-1.9416  -0.5220  -0.3505  -0.2195   2.9449  \n",
       "\n",
       "Coefficients:\n",
       "                Estimate Std. Error z value Pr(>|z|)    \n",
       "(Intercept)    -6.292252   0.560756 -11.221  < 2e-16 ***\n",
       "Int.l.PlanTrue  2.023198   0.219168   9.231  < 2e-16 ***\n",
       "VMail.PlanTrue -0.622797   0.203285  -3.064  0.00219 ** \n",
       "Day.Mins        0.014938   0.001671   8.942  < 2e-16 ***\n",
       "Intl.Mins       0.083575   0.031049   2.692  0.00711 ** \n",
       "Intl.Calls     -0.062646   0.036700  -1.707  0.08783 .  \n",
       "CustServ.Calls  0.489885   0.059825   8.189 2.64e-16 ***\n",
       "---\n",
       "Signif. codes:  0 ‘***’ 0.001 ‘**’ 0.01 ‘*’ 0.05 ‘.’ 0.1 ‘ ’ 1\n",
       "\n",
       "(Dispersion parameter for binomial family taken to be 1)\n",
       "\n",
       "    Null deviance: 1163.82  on 1403  degrees of freedom\n",
       "Residual deviance:  935.02  on 1397  degrees of freedom\n",
       "AIC: 949.02\n",
       "\n",
       "Number of Fisher Scoring iterations: 5\n"
      ]
     },
     "metadata": {},
     "output_type": "display_data"
    }
   ],
   "source": [
    "model.lr <- glm(Churn ~ ., data=churn_train, family=binomial(link='logit'))\n",
    "#print(model.lr)\n",
    "summary(model.lr)"
   ]
  },
  {
   "cell_type": "markdown",
   "metadata": {},
   "source": [
    "### Decision Tree"
   ]
  },
  {
   "cell_type": "markdown",
   "metadata": {},
   "source": [
    "\n",
    "A [decision tree](https://en.wikipedia.org/wiki/Decision_tree) is a decision support tool that uses a tree-like graph or model of decisions and their possible consequences, including chance event outcomes, resource costs, and utility. It is one way to display an algorithm that only contains conditional control statemens.\n",
    "\n",
    "The dataset is segmented in mutually exclusive groups, called nodes, internally homogeneous and heterogeneous between them with respect to the target variable. A split criterion is defined to determine the ramification and pruning rules are set to subsequently thin the tree. The predicted target is assigned to the most frequent class in a terminal node (or leaf). \n",
    "\n",
    "Many algorithms can be used to build a decision tree, each one using different split types, split criteria, and suited for different input features and targets.\n",
    "\n",
    "Here we want to use CART algorithm[1], setting very weak pre-pruning rules and applying subsequently post-pruning on validation data. Precisely:\n",
    "* Split: max impurity deacrease w/ gini index (CART)\n",
    "* Pre-pruning: min numerosity = 2\n",
    "* Post-pruning: cost complexity pruning"
   ]
  },
  {
   "cell_type": "markdown",
   "metadata": {},
   "source": [
    "To build the model in R we make use of the libraries [rpart](https://cran.r-project.org/web/packages/rpart/index.html) and [rpart.plot](https://cran.r-project.org/web/packages/rpart.plot/index.html):"
   ]
  },
  {
   "cell_type": "code",
   "execution_count": 7,
   "metadata": {
    "collapsed": true
   },
   "outputs": [],
   "source": [
    "#install.packages(\"rpart\")\n",
    "#install.packages(\"rpart.plot\")\n",
    "library(\"rpart\")\n",
    "library(\"rpart.plot\")"
   ]
  },
  {
   "cell_type": "code",
   "execution_count": 8,
   "metadata": {},
   "outputs": [
    {
     "data": {
      "image/png": "[encoded data removed]",
      "text/plain": [
       "plot without title"
      ]
     },
     "metadata": {},
     "output_type": "display_data"
    }
   ],
   "source": [
    "# Training w/ pre-pruning\n",
    "model.tree = rpart(Churn ~ ., data=churn_train, method=\"class\", minsplit=2, parms=list(split=\"gini\"))\n",
    "options(repr.plot.width=3, repr.plot.height=3)\n",
    "plotcp(model.tree)"
   ]
  },
  {
   "cell_type": "markdown",
   "metadata": {},
   "source": [
    "We note that the complexity parameter cp doesn't decrease with the last split. Applying a cost complexity-based pruning, setting the minimum cp to reduce at 0.03 we get a thinner tree:"
   ]
  },
  {
   "cell_type": "code",
   "execution_count": 9,
   "metadata": {},
   "outputs": [
    {
     "data": {
      "image/png": "[encoded data removed]",
      "text/plain": [
       "plot without title"
      ]
     },
     "metadata": {},
     "output_type": "display_data"
    }
   ],
   "source": [
    "# Post-pruning\n",
    "model.tree = prune(model.tree, cp = 0.03, data=churn_valid)\n",
    "plotcp(model.tree)"
   ]
  },
  {
   "cell_type": "code",
   "execution_count": 10,
   "metadata": {},
   "outputs": [
    {
     "data": {
      "image/png": "[encoded data removed]",
      "text/plain": [
       "plot without title"
      ]
     },
     "metadata": {},
     "output_type": "display_data"
    }
   ],
   "source": [
    "options(repr.plot.width=6, repr.plot.height=6)\n",
    "rpart.plot(model.tree, type=4, tweak=1)"
   ]
  },
  {
   "cell_type": "code",
   "execution_count": 11,
   "metadata": {},
   "outputs": [
    {
     "name": "stdout",
     "output_type": "stream",
     "text": [
      "Call:\n",
      "rpart(formula = Churn ~ ., data = churn_train, method = \"class\", \n",
      "    parms = list(split = \"gini\"), minsplit = 2)\n",
      "  n= 1404 \n",
      "\n",
      "          CP nsplit rel error    xerror       xstd\n",
      "1 0.13235294      0 1.0000000 1.0000000 0.06472797\n",
      "2 0.07843137      1 0.8676471 0.9068627 0.06212609\n",
      "3 0.07352941      3 0.7107843 0.8088235 0.05915125\n",
      "4 0.05392157      4 0.6372549 0.7401961 0.05690498\n",
      "5 0.03000000      7 0.4509804 0.5343137 0.04915123\n",
      "\n",
      "Variable importance\n",
      "      Day.Mins CustServ.Calls     Intl.Calls      Intl.Mins     Int.l.Plan \n",
      "            39             18             14             11             11 \n",
      "    VMail.Plan \n",
      "             7 \n",
      "\n",
      "Node number 1: 1404 observations,    complexity param=0.1323529\n",
      "  predicted class=False  expected loss=0.1452991  P(node) =1\n",
      "    class counts:  1200   204\n",
      "   probabilities: 0.855 0.145 \n",
      "  left son=2 (1305 obs) right son=3 (99 obs)\n",
      "  Primary splits:\n",
      "      Day.Mins       < 263.1  to the left,  improve=51.368730, (0 missing)\n",
      "      CustServ.Calls < 3.5    to the left,  improve=29.562750, (0 missing)\n",
      "      Int.l.Plan     splits as  LR,         improve=22.822010, (0 missing)\n",
      "      Intl.Mins      < 13.15  to the left,  improve= 4.550308, (0 missing)\n",
      "      Intl.Calls     < 2.5    to the right, improve= 2.903595, (0 missing)\n",
      "\n",
      "Node number 2: 1305 observations,    complexity param=0.07843137\n",
      "  predicted class=False  expected loss=0.108046  P(node) =0.9294872\n",
      "    class counts:  1164   141\n",
      "   probabilities: 0.892 0.108 \n",
      "  left son=4 (1199 obs) right son=5 (106 obs)\n",
      "  Primary splits:\n",
      "      CustServ.Calls < 3.5    to the left,  improve=33.762580, (0 missing)\n",
      "      Int.l.Plan     splits as  LR,         improve=21.712180, (0 missing)\n",
      "      Intl.Mins      < 13.15  to the left,  improve= 5.762217, (0 missing)\n",
      "      Day.Mins       < 224.75 to the left,  improve= 5.398732, (0 missing)\n",
      "      Intl.Calls     < 2.5    to the right, improve= 2.423487, (0 missing)\n",
      "\n",
      "Node number 3: 99 observations,    complexity param=0.07352941\n",
      "  predicted class=True   expected loss=0.3636364  P(node) =0.07051282\n",
      "    class counts:    36    63\n",
      "   probabilities: 0.364 0.636 \n",
      "  left son=6 (23 obs) right son=7 (76 obs)\n",
      "  Primary splits:\n",
      "      VMail.Plan     splits as  RL,         improve=12.8147500, (0 missing)\n",
      "      Day.Mins       < 284.15 to the left,  improve= 3.9746160, (0 missing)\n",
      "      CustServ.Calls < 2.5    to the right, improve= 1.5094470, (0 missing)\n",
      "      Intl.Calls     < 9.5    to the left,  improve= 1.3926500, (0 missing)\n",
      "      Intl.Mins      < 2.25   to the left,  improve= 0.8181818, (0 missing)\n",
      "  Surrogate splits:\n",
      "      CustServ.Calls < 3.5    to the right, agree=0.778, adj=0.043, (0 split)\n",
      "\n",
      "Node number 4: 1199 observations,    complexity param=0.05392157\n",
      "  predicted class=False  expected loss=0.07422852  P(node) =0.8539886\n",
      "    class counts:  1110    89\n",
      "   probabilities: 0.926 0.074 \n",
      "  left son=8 (1087 obs) right son=9 (112 obs)\n",
      "  Primary splits:\n",
      "      Int.l.Plan     splits as  LR,         improve=21.0443700, (0 missing)\n",
      "      Day.Mins       < 216.75 to the left,  improve= 8.0645910, (0 missing)\n",
      "      Intl.Mins      < 13.15  to the left,  improve= 4.5718360, (0 missing)\n",
      "      Intl.Calls     < 2.5    to the right, improve= 1.9071150, (0 missing)\n",
      "      CustServ.Calls < 0.5    to the right, improve= 0.2645924, (0 missing)\n",
      "\n",
      "Node number 5: 106 observations,    complexity param=0.07843137\n",
      "  predicted class=False  expected loss=0.490566  P(node) =0.07549858\n",
      "    class counts:    54    52\n",
      "   probabilities: 0.509 0.491 \n",
      "  left son=10 (60 obs) right son=11 (46 obs)\n",
      "  Primary splits:\n",
      "      Day.Mins       < 160.2  to the right, improve=20.74490000, (0 missing)\n",
      "      Intl.Calls     < 4.5    to the right, improve= 2.07981900, (0 missing)\n",
      "      CustServ.Calls < 4.5    to the left,  improve= 1.52428700, (0 missing)\n",
      "      Intl.Mins      < 9.65   to the right, improve= 0.90576980, (0 missing)\n",
      "      Int.l.Plan     splits as  LR,         improve= 0.06391596, (0 missing)\n",
      "  Surrogate splits:\n",
      "      Intl.Calls     < 8.5    to the left,  agree=0.594, adj=0.065, (0 split)\n",
      "      CustServ.Calls < 4.5    to the left,  agree=0.585, adj=0.043, (0 split)\n",
      "\n",
      "Node number 6: 23 observations\n",
      "  predicted class=False  expected loss=0.173913  P(node) =0.01638177\n",
      "    class counts:    19     4\n",
      "   probabilities: 0.826 0.174 \n",
      "\n",
      "Node number 7: 76 observations\n",
      "  predicted class=True   expected loss=0.2236842  P(node) =0.05413105\n",
      "    class counts:    17    59\n",
      "   probabilities: 0.224 0.776 \n",
      "\n",
      "Node number 8: 1087 observations\n",
      "  predicted class=False  expected loss=0.04415823  P(node) =0.7742165\n",
      "    class counts:  1039    48\n",
      "   probabilities: 0.956 0.044 \n",
      "\n",
      "Node number 9: 112 observations,    complexity param=0.05392157\n",
      "  predicted class=False  expected loss=0.3660714  P(node) =0.07977208\n",
      "    class counts:    71    41\n",
      "   probabilities: 0.634 0.366 \n",
      "  left son=18 (90 obs) right son=19 (22 obs)\n",
      "  Primary splits:\n",
      "      Intl.Mins      < 13.1   to the left,  improve=22.0043700, (0 missing)\n",
      "      Intl.Calls     < 2.5    to the right, improve=18.3907500, (0 missing)\n",
      "      Day.Mins       < 236.2  to the left,  improve= 2.4515310, (0 missing)\n",
      "      VMail.Plan     splits as  LR,         improve= 0.2433934, (0 missing)\n",
      "      CustServ.Calls < 0.5    to the right, improve= 0.1432540, (0 missing)\n",
      "  Surrogate splits:\n",
      "      Day.Mins   < 55.05  to the right, agree=0.821, adj=0.091, (0 split)\n",
      "      Intl.Calls < 14     to the left,  agree=0.812, adj=0.045, (0 split)\n",
      "\n",
      "Node number 10: 60 observations\n",
      "  predicted class=False  expected loss=0.2166667  P(node) =0.04273504\n",
      "    class counts:    47    13\n",
      "   probabilities: 0.783 0.217 \n",
      "\n",
      "Node number 11: 46 observations\n",
      "  predicted class=True   expected loss=0.1521739  P(node) =0.03276353\n",
      "    class counts:     7    39\n",
      "   probabilities: 0.152 0.848 \n",
      "\n",
      "Node number 18: 90 observations,    complexity param=0.05392157\n",
      "  predicted class=False  expected loss=0.2111111  P(node) =0.06410256\n",
      "    class counts:    71    19\n",
      "   probabilities: 0.789 0.211 \n",
      "  left son=36 (74 obs) right son=37 (16 obs)\n",
      "  Primary splits:\n",
      "      Intl.Calls     < 2.5    to the right, improve=24.2210200, (0 missing)\n",
      "      Day.Mins       < 236.2  to the left,  improve= 3.8367520, (0 missing)\n",
      "      Intl.Mins      < 12.45  to the right, improve= 0.5730159, (0 missing)\n",
      "      CustServ.Calls < 1.5    to the left,  improve= 0.2777778, (0 missing)\n",
      "      VMail.Plan     splits as  RL,         improve= 0.2552105, (0 missing)\n",
      "\n",
      "Node number 19: 22 observations\n",
      "  predicted class=True   expected loss=0  P(node) =0.01566952\n",
      "    class counts:     0    22\n",
      "   probabilities: 0.000 1.000 \n",
      "\n",
      "Node number 36: 74 observations\n",
      "  predicted class=False  expected loss=0.04054054  P(node) =0.05270655\n",
      "    class counts:    71     3\n",
      "   probabilities: 0.959 0.041 \n",
      "\n",
      "Node number 37: 16 observations\n",
      "  predicted class=True   expected loss=0  P(node) =0.01139601\n",
      "    class counts:     0    16\n",
      "   probabilities: 0.000 1.000 \n",
      "\n"
     ]
    }
   ],
   "source": [
    "summary(model.tree)"
   ]
  },
  {
   "cell_type": "markdown",
   "metadata": {},
   "source": [
    "## Boosted Tree"
   ]
  },
  {
   "cell_type": "markdown",
   "metadata": {},
   "source": [
    "Boosted tree is an ensemble method (boosting) applied to the decision tree models. [Ensemble methods](https://en.wikipedia.org/wiki/Ensemble_learning) use multiple learning algorithms to obtain better predictive performance than could be obtained from any of the constituent learning algorithms alone. They are more accurate and more robust than their single counterparts.\n",
    "\n",
    "When _boosting_ the ensemble model evolves from the starting models by readapting the single models at each iteration, posing attention to misclassified events. \n",
    "\n",
    "![boosting](media/boosting.png)\n",
    "\n",
    "One of the most widespread boosting algorithms and in general one of the most appreciated[2] data mining algorithms is AdaBoost[3]."
   ]
  },
  {
   "cell_type": "markdown",
   "metadata": {},
   "source": [
    "Here we apply the AdaBoost algorithm from the [gbm](https://cran.r-project.org/web/packages/gbm/index.html) package, setting an high number of iterations (500):"
   ]
  },
  {
   "cell_type": "code",
   "execution_count": 12,
   "metadata": {},
   "outputs": [
    {
     "name": "stderr",
     "output_type": "stream",
     "text": [
      "Loading required package: survival\n",
      "Loading required package: lattice\n",
      "Loading required package: splines\n",
      "Loading required package: parallel\n",
      "Loaded gbm 2.1.3\n"
     ]
    }
   ],
   "source": [
    "#install.packages(\"gbm\")\n",
    "library(\"gbm\")"
   ]
  },
  {
   "cell_type": "code",
   "execution_count": 13,
   "metadata": {},
   "outputs": [
    {
     "name": "stdout",
     "output_type": "stream",
     "text": [
      "gbm(formula = Churn ~ ., distribution = \"multinomial\", data = churn_train, \n",
      "    n.trees = 500)\n",
      "A gradient boosted model with multinomial loss function.\n",
      "500 iterations were performed.\n",
      "There were 6 predictors of which 3 had non-zero influence.\n"
     ]
    }
   ],
   "source": [
    "model.btree = gbm(Churn ~ ., data=churn_train, distribution = \"multinomial\", n.trees = 500)\n",
    "print(model.btree)\n",
    "#summary(model.btree)"
   ]
  },
  {
   "cell_type": "markdown",
   "metadata": {},
   "source": [
    "## Random Forest"
   ]
  },
  {
   "cell_type": "markdown",
   "metadata": {},
   "source": [
    "[Random forests](https://en.wikipedia.org/wiki/Random_forest) create an ensemble of decision trees using [bootstrap](https://en.wikipedia.org/wiki/Bootstrapping_(statistics)) samples of the training set. \n",
    "\n",
    "Moreover, when building each tree and at every single split a random sample of $p$ features is chosen as a split candidate from the full set of $n$ features (usually $p=\\sqrt{n}$ in classification problems). \n",
    "This allows to overcome the problem of high correlation of bagged trees. When not using a random subset of features as in bagged trees, most of the trees will use the same feature as the top split, resulting in an ensemble of similar trees that are highly correlated.\n",
    "\n",
    "As final prediction the most frequent prediction in the single models is considered.\n",
    "\n",
    "![random_forest](media/random_forest.png)"
   ]
  },
  {
   "cell_type": "markdown",
   "metadata": {},
   "source": [
    "The [randomForest](https://cran.r-project.org/web/packages/randomForest/index.html) library allow us to apply random forests algorithms in R. Given the scarcity of data, we set a high number of bootstrap samples (500), while we fix to 3 the number of variables in each random sample of features."
   ]
  },
  {
   "cell_type": "code",
   "execution_count": 14,
   "metadata": {},
   "outputs": [
    {
     "name": "stderr",
     "output_type": "stream",
     "text": [
      "randomForest 4.6-12\n",
      "Type rfNews() to see new features/changes/bug fixes.\n"
     ]
    }
   ],
   "source": [
    "#install.packages(\"randomForest\")\n",
    "library(\"randomForest\")"
   ]
  },
  {
   "cell_type": "code",
   "execution_count": 15,
   "metadata": {},
   "outputs": [
    {
     "name": "stdout",
     "output_type": "stream",
     "text": [
      "\n",
      "Call:\n",
      " randomForest(formula = Churn ~ ., data = churn_train, ntree = 500,      nodesize = 3) \n",
      "               Type of random forest: classification\n",
      "                     Number of trees: 500\n",
      "No. of variables tried at each split: 2\n",
      "\n",
      "        OOB estimate of  error rate: 7.91%\n",
      "Confusion matrix:\n",
      "      False True class.error\n",
      "False  1165   35  0.02916667\n",
      "True     76  128  0.37254902\n"
     ]
    },
    {
     "data": {
      "text/plain": [
       "                Length Class  Mode     \n",
       "call               5   -none- call     \n",
       "type               1   -none- character\n",
       "predicted       1404   factor numeric  \n",
       "err.rate        1500   -none- numeric  \n",
       "confusion          6   -none- numeric  \n",
       "votes           2808   matrix numeric  \n",
       "oob.times       1404   -none- numeric  \n",
       "classes            2   -none- character\n",
       "importance         6   -none- numeric  \n",
       "importanceSD       0   -none- NULL     \n",
       "localImportance    0   -none- NULL     \n",
       "proximity          0   -none- NULL     \n",
       "ntree              1   -none- numeric  \n",
       "mtry               1   -none- numeric  \n",
       "forest            14   -none- list     \n",
       "y               1404   factor numeric  \n",
       "test               0   -none- NULL     \n",
       "inbag              0   -none- NULL     \n",
       "terms              3   terms  call     "
      ]
     },
     "metadata": {},
     "output_type": "display_data"
    }
   ],
   "source": [
    "model.rforest = randomForest(Churn ~ ., data=churn_train, ntree=500, nodesize=3)\n",
    "print(model.rforest)\n",
    "summary(model.rforest)"
   ]
  },
  {
   "cell_type": "markdown",
   "metadata": {},
   "source": [
    "# Assessment\n",
    "\n",
    "In the previous phase we trained our models, so that they would fit the training data. In this phase we want to compare them using new data in order to find the most _robust_ model. \n",
    "\n",
    "Backed by stochastic interpretation of probability, we have associated a probability to the classes of each example. Usually classification is made by assigning the target to the class with highest probability, but this is not always the case, as sometimes different errors may have different costs. This results typically in a different threshold probability used to choose the class of the target.\n",
    "\n",
    "By considering the probabilities instead of the target labels, the following techiniques allow us to compare the models regardless of the threshold and to see which one best fits a variety of situations. "
   ]
  },
  {
   "cell_type": "markdown",
   "metadata": {},
   "source": [
    "First, let's import the required [ROCR](https://cran.r-project.org/web/packages/ROCR/index.html) library and declare the objects:"
   ]
  },
  {
   "cell_type": "code",
   "execution_count": 16,
   "metadata": {},
   "outputs": [
    {
     "name": "stderr",
     "output_type": "stream",
     "text": [
      "Loading required package: gplots\n",
      "\n",
      "Attaching package: ‘gplots’\n",
      "\n",
      "The following object is masked from ‘package:stats’:\n",
      "\n",
      "    lowess\n",
      "\n"
     ]
    }
   ],
   "source": [
    "#install.packages(\"ROCR\")\n",
    "library(\"ROCR\")"
   ]
  },
  {
   "cell_type": "code",
   "execution_count": 17,
   "metadata": {
    "collapsed": true
   },
   "outputs": [],
   "source": [
    "lr=list()\n",
    "tree=list()\n",
    "btree=list()\n",
    "rforest=list()"
   ]
  },
  {
   "cell_type": "code",
   "execution_count": 18,
   "metadata": {
    "collapsed": true
   },
   "outputs": [],
   "source": [
    "# Logistic regression\n",
    "lr$prob <- predict(model.lr, newdata=churn_valid, type=\"response\")\n",
    "lr$pred <- prediction(lr$prob, churn_valid$'Churn')\n",
    "# Tree\n",
    "tree$prob <- predict(model.tree, newdata=churn_valid, type=\"prob\")\n",
    "tree$pred <- prediction(tree$prob[,2], churn_valid$'Churn')\n",
    "# Boosted tree\n",
    "btree$prob <- predict(model.btree, newdata=churn_valid, n.trees=500, type=\"response\")\n",
    "btree$pred <- prediction(btree$prob[,2,], churn_valid$'Churn')\n",
    "# Random Forest\n",
    "rforest$prob <- predict(model.rforest, newdata=churn_valid, type=\"prob\")\n",
    "rforest$pred <- prediction(rforest$prob[,2], as.integer(churn_valid$'Churn')-1)"
   ]
  },
  {
   "cell_type": "markdown",
   "metadata": {},
   "source": [
    "### ROC Curves\n",
    "\n",
    "In a ROC (Receiver Operating Characteristic) curve we have [FPR](https://en.wikipedia.org/wiki/Sensitivity_and_specificity) on the $x$ axis and [TPR](https://en.wikipedia.org/wiki/Sensitivity_and_specificity) on the $y$ axis. The ROC Curve allows the modeler to look at the performance of his model across all possible thresholds.\n",
    "A synthetic measure is given by the Area Under Curve(AUC), which is maximized by a good model and should be at least greater than 0.5, otherwise a random classifier would be better than our model."
   ]
  },
  {
   "cell_type": "markdown",
   "metadata": {},
   "source": [
    "First we create the objects containing the measures: "
   ]
  },
  {
   "cell_type": "code",
   "execution_count": 19,
   "metadata": {
    "collapsed": true
   },
   "outputs": [],
   "source": [
    "# Logistic regression\n",
    "lr$roc <- performance(lr$pred, measure = \"tpr\", x.measure = \"fpr\")\n",
    "lr$auc <- performance(lr$pred, measure = \"auc\")@y.values[[1]]\n",
    "lr$roc_df <- data.frame(fpr=unlist(lr$roc@x.values),tpr=unlist(lr$roc@y.values))\n",
    "# Tree\n",
    "tree$roc <- performance(tree$pred, measure = \"tpr\", x.measure = \"fpr\")\n",
    "tree$auc <- performance(tree$pred, measure = \"auc\")@y.values[[1]]\n",
    "tree$roc_df <- data.frame(fpr=unlist(tree$roc@x.values),tpr=unlist(tree$roc@y.values))\n",
    "# Boosted Tree\n",
    "btree$roc <- performance(btree$pred, measure = \"tpr\", x.measure = \"fpr\")\n",
    "btree$auc <- performance(btree$pred, measure = \"auc\")@y.values[[1]]\n",
    "btree$roc_df <- data.frame(fpr=unlist(btree$roc@x.values),tpr=unlist(btree$roc@y.values))\n",
    "# Random Forest\n",
    "rforest$roc <- performance(rforest$pred, measure = \"tpr\", x.measure = \"fpr\")\n",
    "rforest$auc <- performance(rforest$pred, measure = \"auc\")@y.values[[1]]\n",
    "rforest$roc_df <- data.frame(fpr=unlist(rforest$roc@x.values),tpr=unlist(rforest$roc@y.values))"
   ]
  },
  {
   "cell_type": "markdown",
   "metadata": {},
   "source": [
    "Then we visualize them in ROC curves:"
   ]
  },
  {
   "cell_type": "code",
   "execution_count": 20,
   "metadata": {},
   "outputs": [
    {
     "name": "stderr",
     "output_type": "stream",
     "text": [
      "\n",
      "Attaching package: ‘ggplot2’\n",
      "\n",
      "The following object is masked from ‘package:randomForest’:\n",
      "\n",
      "    margin\n",
      "\n"
     ]
    }
   ],
   "source": [
    "#install.packages(\"ggplot2\")\n",
    "library(\"ggplot2\")"
   ]
  },
  {
   "cell_type": "code",
   "execution_count": 21,
   "metadata": {},
   "outputs": [
    {
     "data": {},
     "metadata": {},
     "output_type": "display_data"
    },
    {
     "data": {
      "image/png": "[encoded data removed]",
      "text/plain": [
       "plot without title"
      ]
     },
     "metadata": {},
     "output_type": "display_data"
    }
   ],
   "source": [
    "options(repr.plot.width=3, repr.plot.height=3)\n",
    "ggplot(data=lr$roc_df, aes(x=fpr, ymin=0, ymax=0)) +\n",
    "    geom_ribbon(alpha=0.2) +\n",
    "    geom_line(data=lr$roc_df, aes(y=tpr), color = 'magenta') + \n",
    "    geom_line(data=tree$roc_df, aes(y=tpr), color = 'green') + \n",
    "    geom_line(data=btree$roc_df, aes(y=tpr), color = 'cyan') + \n",
    "    geom_line(data=rforest$roc_df, aes(y=tpr), color = 'blue') +\n",
    "    ggtitle(\"ROC curves\")"
   ]
  },
  {
   "cell_type": "code",
   "execution_count": 22,
   "metadata": {},
   "outputs": [
    {
     "name": "stdout",
     "output_type": "stream",
     "text": [
      "Areas under ROC curves\n",
      "Logistic regression:\t 0.817911\n",
      "Tree:\t\t\t 0.8485103\n",
      "Boosted tree:\t\t 0.8506336\n",
      "Random forest:\t\t 0.888476"
     ]
    }
   ],
   "source": [
    "cat(\"Areas under ROC curves\\n\")\n",
    "cat(\"Logistic regression:\\t\", lr$auc)\n",
    "cat(\"\\nTree:\\t\\t\\t\", tree$auc)\n",
    "cat(\"\\nBoosted tree:\\t\\t\", btree$auc)\n",
    "cat(\"\\nRandom forest:\\t\\t\", rforest$auc)"
   ]
  },
  {
   "cell_type": "markdown",
   "metadata": {},
   "source": [
    "From the graph we can see the better trend, confirmed by the AUC, of the ensemble methods (boosted tree and random forest) which can count on bootstrap methods in order to overcome the small numerosity of the dataset. The decision tree seems also a good choice, but its ROC curve is made of few points and is not so reliable."
   ]
  },
  {
   "cell_type": "markdown",
   "metadata": {},
   "source": [
    "## Lift charts"
   ]
  },
  {
   "cell_type": "markdown",
   "metadata": {},
   "source": [
    "Although Random Forest's AUC is the greatest, we may want to consider another assessment method to be sure to pick the best model, so we analyze the [lift charts](https://en.wikipedia.org/wiki/Lift_(data_mining)) for our models.\n",
    "\n",
    "To get the lift chart of a model, we first order the predictions by class probability and we split them in subgroups (quartiles, deciles, ...). Then we calculate:\n",
    "* Captured Response = #successes in subgroup / #successes\n",
    "* Lift = Captured Response / Global Probability of success\n",
    "\n",
    "A good model will capture the response before the others i.e. it will have higher captured responses and lifts in the first quantiles."
   ]
  },
  {
   "cell_type": "code",
   "execution_count": 23,
   "metadata": {
    "collapsed": true
   },
   "outputs": [],
   "source": [
    "# Logistic regression\n",
    "lr$lift <- performance(lr$pred, measure = \"lift\",x.measure = \"rpp\")\n",
    "lr$lift_df <- data.frame(quantile=unlist(lr$lift@x.values)[-1],lift=unlist(lr$lift@y.values)[-1])\n",
    "# Tree\n",
    "tree$lift <- performance(tree$pred, measure = \"lift\",x.measure = \"rpp\")\n",
    "tree$lift_df <- data.frame(quantile=unlist(tree$lift@x.values)[-1],lift=unlist(tree$lift@y.values)[-1])\n",
    "# Boosted Tree\n",
    "btree$lift <- performance(btree$pred, measure = \"lift\",x.measure = \"rpp\")\n",
    "btree$lift_df <- data.frame(quantile=unlist(btree$lift@x.values)[-1],lift=unlist(btree$lift@y.values)[-1])\n",
    "# Random Forest\n",
    "rforest$lift <- performance(rforest$pred, measure = \"lift\",x.measure = \"rpp\")\n",
    "rforest$lift_df <- data.frame(quantile=unlist(rforest$lift@x.values)[-1],lift=unlist(rforest$lift@y.values)[-1])"
   ]
  },
  {
   "cell_type": "code",
   "execution_count": 24,
   "metadata": {},
   "outputs": [
    {
     "data": {},
     "metadata": {},
     "output_type": "display_data"
    },
    {
     "data": {
      "image/png": "[encoded data removed]",
      "text/plain": [
       "plot without title"
      ]
     },
     "metadata": {},
     "output_type": "display_data"
    }
   ],
   "source": [
    "options(repr.plot.width=3, repr.plot.height=3)\n",
    "ggplot(data=lr$lift_df, aes(x=quantile, ymin=0, ymax=0)) +\n",
    "    geom_ribbon(alpha=0.2) +\n",
    "    geom_line(data=lr$lift_df, aes(y=lift), color = 'magenta') + \n",
    "    geom_line(data=tree$lift_df, aes(y=lift), color = 'green') + \n",
    "    geom_line(data=btree$lift_df, aes(y=lift), color = 'cyan') + \n",
    "    geom_line(data=rforest$lift_df, aes(y=lift), color = 'blue') +\n",
    "    ggtitle(\"Lift charts\")"
   ]
  },
  {
   "cell_type": "markdown",
   "metadata": {},
   "source": [
    "As we can see, the Random Forest model captures the response before the Boosted Tree.  "
   ]
  },
  {
   "cell_type": "markdown",
   "metadata": {},
   "source": [
    "## Conclusions\n",
    "\n",
    "In the light of the previous considerations, we end up choosing the Random Forest model as the most robust. In the next section we will evaluate this model on a new dataset (test set) in order to have an unbiased measure of its performance and we will set a new threshold based on the costs associated to the different errors in the confusion matrix. "
   ]
  },
  {
   "cell_type": "markdown",
   "metadata": {},
   "source": [
    "---\n",
    "__References__\n",
    "* [1]L. Breiman, Ed., Classification and regression trees, Repr. Boca Raton: Chapman & Hall [u.a.], 1998.\n",
    "* [2]X. Wu et al., “Top 10 algorithms in data mining,” Knowledge and Information Systems, vol. 14, no. 1, pp. 1–37, Jan. 2008.\n",
    "* [3]Y. Freund, R. E. Schapire, and others, “Experiments with a new boosting algorithm,” in Icml, 1996, vol. 96, pp. 148–156."
   ]
  }
 ],
 "metadata": {
  "kernelspec": {
   "display_name": "R",
   "language": "R",
   "name": "ir"
  },
  "language_info": {
   "codemirror_mode": "r",
   "file_extension": ".r",
   "mimetype": "text/x-r-source",
   "name": "R",
   "pygments_lexer": "r",
   "version": "3.4.1"
  }
 },
 "nbformat": 4,
 "nbformat_minor": 2
}
