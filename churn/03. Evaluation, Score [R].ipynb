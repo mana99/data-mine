{
 "cells": [
  {
   "cell_type": "markdown",
   "metadata": {},
   "source": [
    "# Data mining on churn dataset"
   ]
  },
  {
   "cell_type": "markdown",
   "metadata": {},
   "source": [
    "In the previous section, we built various model to solve our classification problem using a training dataset and we compared them on a validation dataset in order to choose the most _robust_ among them. \n",
    "\n",
    "In this section we want to: \n",
    "* evaluate this model on a test dataset in order to have an unbiased measure of its performance and \n",
    "* apply the model on a score dataset in order to predict the unknown target classes\n",
    "\n",
    "We will also set a new threshold based on the costs associated to the different errors in the confusion matrix and use it to make the predictions on the score dataset. "
   ]
  },
  {
   "cell_type": "markdown",
   "metadata": {},
   "source": [
    "First, let's take ourselves after the assessment phase:"
   ]
  },
  {
   "cell_type": "code",
   "execution_count": 36,
   "metadata": {
    "collapsed": true
   },
   "outputs": [],
   "source": [
    "# Import clean data\n",
    "churn <- read.table('datasets/churn_working_clean.csv', header=T, sep = ',')\n",
    "churn = subset(churn, select = -1)"
   ]
  },
  {
   "cell_type": "code",
   "execution_count": 37,
   "metadata": {
    "collapsed": true
   },
   "outputs": [],
   "source": [
    "# Partitioning\n",
    "set.seed(99)\n",
    "splitSample <- sample(3, size=nrow(churn), prob=c(0.6,0.2,0.2), replace = TRUE)\n",
    "churn_train = data.frame(churn[splitSample==1,])\n",
    "churn_valid = data.frame(churn[splitSample==2,])\n",
    "churn_test  = data.frame(churn[splitSample==3,])"
   ]
  },
  {
   "cell_type": "code",
   "execution_count": 61,
   "metadata": {},
   "outputs": [],
   "source": [
    "# Training\n",
    "library(\"randomForest\")\n",
    "model.rforest = randomForest(Churn ~ ., data=churn_train, ntree=500, nodesize=3)"
   ]
  },
  {
   "cell_type": "markdown",
   "metadata": {},
   "source": [
    "## Evaluation"
   ]
  },
  {
   "cell_type": "markdown",
   "metadata": {},
   "source": [
    "Here, we want to evaluate the performance of the final model, the one that will be used to predict new values. Here the threshold is set or is determined as a parameter in a minimization problem. "
   ]
  },
  {
   "cell_type": "markdown",
   "metadata": {},
   "source": [
    "### Confusion matrix"
   ]
  },
  {
   "cell_type": "markdown",
   "metadata": {},
   "source": [
    "Let's consider the case of threshold set to the default value of .5:"
   ]
  },
  {
   "cell_type": "code",
   "execution_count": 39,
   "metadata": {
    "collapsed": true
   },
   "outputs": [],
   "source": [
    "# Probabilities\n",
    "prob <- predict(model.rforest, newdata=churn_test, type=\"prob\")\n",
    "# Predictions\n",
    "predictions=as.integer(prob[,2]>0.5)\n",
    "#True \n",
    "true=as.integer(churn_test$'Churn')-1"
   ]
  },
  {
   "cell_type": "markdown",
   "metadata": {},
   "source": [
    "With [caret](https://cran.r-project.org/web/packages/caret/index.html) library we can visualize the confusion matrix and the performance measure derived:"
   ]
  },
  {
   "cell_type": "code",
   "execution_count": 62,
   "metadata": {},
   "outputs": [
    {
     "data": {
      "text/plain": [
       "Confusion Matrix and Statistics\n",
       "\n",
       "          Reference\n",
       "Prediction   0   1\n",
       "         0 376  29\n",
       "         1   6  45\n",
       "                                         \n",
       "               Accuracy : 0.9232         \n",
       "                 95% CI : (0.8949, 0.946)\n",
       "    No Information Rate : 0.8377         \n",
       "    P-Value [Acc > NIR] : 4.871e-08      \n",
       "                                         \n",
       "                  Kappa : 0.6773         \n",
       " Mcnemar's Test P-Value : 0.0002003      \n",
       "                                         \n",
       "            Sensitivity : 0.9843         \n",
       "            Specificity : 0.6081         \n",
       "         Pos Pred Value : 0.9284         \n",
       "         Neg Pred Value : 0.8824         \n",
       "             Prevalence : 0.8377         \n",
       "         Detection Rate : 0.8246         \n",
       "   Detection Prevalence : 0.8882         \n",
       "      Balanced Accuracy : 0.7962         \n",
       "                                         \n",
       "       'Positive' Class : 0              \n",
       "                                         "
      ]
     },
     "metadata": {},
     "output_type": "display_data"
    }
   ],
   "source": [
    "#install.packages(\"caret\")\n",
    "#install.packages(\"e1071\")\n",
    "library(\"caret\")\n",
    "confusionMatrix(predictions,true)"
   ]
  },
  {
   "cell_type": "markdown",
   "metadata": {},
   "source": [
    "In particular we observe the following values (note that in the confusion matrix the positive event is y=0):\n",
    "* Accuracy: 0.9232 \n",
    "* Precision (Pos Pred Value): 0.9284\n",
    "* Recall (Sensitivity): 0.9843\n",
    "* Specificity: 0.6081\n",
    "\n",
    "We note that accuracy (#true/#total), precision (#true positives/#predicted positives) and recall (#true positives/#actual positives) are adequate considering the small quantity of data. Recall is higher than precision, which can be useful in a scenario in which we want to avoid false negatives more than false positives. On the contrary specifity (#true negatives/#actual negatives) is pretty low."
   ]
  },
  {
   "cell_type": "markdown",
   "metadata": {},
   "source": [
    "### Cost matrix\n",
    "\n",
    "In a classification problem it's possible to associate a specific profit or cost to each event of or incorrect classification.\n",
    "\n",
    "| predicted >>| yes | no  |\n",
    "|-------------|-----|-----|\n",
    "| yes         | $a$ | $c$ |\n",
    "| no          | $b$ | $d$ |\n",
    "\n",
    "\n",
    "We can then define synthetic performance measure which take account of this matrix, as the Individual Expected Profit for the events:\n",
    "* $\\text{EP}(\\hat{y}=1) = a \\hat{p}_1 + b \\hat{p}_0$\n",
    "* $\\text{EP}(\\hat{y}=0) = c \\hat{p}_1 + d \\hat{p}_0$\n",
    "\n",
    "and the Total Expected Profit (TEP):\n",
    "* $\\text{TEP}$ = $a$ TP + $b$ FN + $c$ FP + $d$ TN"
   ]
  },
  {
   "cell_type": "markdown",
   "metadata": {},
   "source": [
    "Here we define the following cost matrix and we'll try to maximize total expected profit:\n",
    "\n",
    "| predicted >>| yes | no |\n",
    "|-------------|-----|----|\n",
    "| yes         | -10 | 10 |\n",
    "| no          | 3   | 0  |\n"
   ]
  },
  {
   "cell_type": "markdown",
   "metadata": {},
   "source": [
    "As we've done for the assessment measures, first we create the objects containing the measures using [ROCR](https://cran.r-project.org/web/packages/ROCR/index.html) package:"
   ]
  },
  {
   "cell_type": "code",
   "execution_count": 52,
   "metadata": {
    "collapsed": true
   },
   "outputs": [],
   "source": [
    "#install.packages(\"ROCR\")\n",
    "library(\"ROCR\")"
   ]
  },
  {
   "cell_type": "code",
   "execution_count": 55,
   "metadata": {},
   "outputs": [],
   "source": [
    "pred <- prediction(prob[,2], true)\n",
    "cost <- performance(pred, measure='cost',\n",
    "                      cost.tp=-10,cost.fn=10,cost.fp=3,cost.tn=0)\n",
    "cost_df <- data.frame(cutoff=unlist(cost@x.values),explicit_cost=unlist(cost@y.values))"
   ]
  },
  {
   "cell_type": "markdown",
   "metadata": {},
   "source": [
    "Then we visualize them in a graph containing the expected cost vs threshold:"
   ]
  },
  {
   "cell_type": "code",
   "execution_count": 58,
   "metadata": {},
   "outputs": [
    {
     "data": {},
     "metadata": {},
     "output_type": "display_data"
    },
    {
     "data": {
      "image/png": "[encoded data removed]",
      "text/plain": [
       "plot without title"
      ]
     },
     "metadata": {},
     "output_type": "display_data"
    }
   ],
   "source": [
    "options(repr.plot.width=4, repr.plot.height=4)\n",
    "ggplot(data=cost_df, aes(x=cutoff, ymin=explicit_cost, ymax=0)) +\n",
    "    geom_ribbon(alpha=0.2) +\n",
    "    geom_line(aes(y=explicit_cost), color = 'magenta')"
   ]
  },
  {
   "cell_type": "markdown",
   "metadata": {},
   "source": [
    "We take the cutoff point that minimizes the cost:"
   ]
  },
  {
   "cell_type": "code",
   "execution_count": 59,
   "metadata": {},
   "outputs": [
    {
     "data": {
      "text/html": [
       "<table>\n",
       "<thead><tr><th></th><th scope=col>cutoff</th><th scope=col>explicit_cost</th></tr></thead>\n",
       "<tbody>\n",
       "\t<tr><th scope=row>1141</th><td>0.252   </td><td>0.497807</td></tr>\n",
       "</tbody>\n",
       "</table>\n"
      ],
      "text/latex": [
       "\\begin{tabular}{r|ll}\n",
       "  & cutoff & explicit\\_cost\\\\\n",
       "\\hline\n",
       "\t1141 & 0.252    & 0.497807\\\\\n",
       "\\end{tabular}\n"
      ],
      "text/markdown": [
       "\n",
       "| <!--/--> | cutoff | explicit_cost | \n",
       "|---|\n",
       "| 1141 | 0.252    | 0.497807 | \n",
       "\n",
       "\n"
      ],
      "text/plain": [
       "     cutoff explicit_cost\n",
       "1141 0.252  0.497807     "
      ]
     },
     "metadata": {},
     "output_type": "display_data"
    }
   ],
   "source": [
    "explicit_cost <- data.frame(unlist(cost@y.values))\n",
    "argmin <- which.min(apply(explicit_cost,MARGIN=1,min))\n",
    "cost_df[argmin,]"
   ]
  },
  {
   "cell_type": "markdown",
   "metadata": {},
   "source": [
    "The threshold we obtained is 0.252, which means that Churn will be classified as yes (y=0) if the probability is higher than 1 minus this value."
   ]
  },
  {
   "cell_type": "code",
   "execution_count": 63,
   "metadata": {
    "collapsed": true
   },
   "outputs": [],
   "source": [
    "threshold = cost_df[argmin,'cutoff']"
   ]
  },
  {
   "cell_type": "markdown",
   "metadata": {},
   "source": [
    "## Score\n",
    "\n",
    "In this final part we apply the model with the default threshold and with the one that maximies the expected profit for the provided cost matrix."
   ]
  },
  {
   "cell_type": "markdown",
   "metadata": {},
   "source": [
    "First we import the score dataset, previously processed in order to be clean and with the right features:"
   ]
  },
  {
   "cell_type": "code",
   "execution_count": 64,
   "metadata": {
    "collapsed": true
   },
   "outputs": [],
   "source": [
    "churn_score <- read.table('datasets/churn_score_clean.csv', header=T, sep = ',')\n",
    "churn_score = subset(churn_score, select = -1 )"
   ]
  },
  {
   "cell_type": "code",
   "execution_count": 65,
   "metadata": {},
   "outputs": [
    {
     "name": "stdout",
     "output_type": "stream",
     "text": [
      "'data.frame':\t9 obs. of  6 variables:\n",
      " $ Int.l.Plan    : Factor w/ 1 level \"False\": 1 1 1 1 1 1 1 1 1\n",
      " $ VMail.Plan    : Factor w/ 2 levels \"False\",\"True\": 1 1 2 1 1 1 1 1 2\n",
      " $ Day.Mins      : num  131 185 176 132 200 ...\n",
      " $ Intl.Mins     : num  15.6 14.1 8.6 10.7 11.3 12.2 11.9 6.9 11.8\n",
      " $ Intl.Calls    : int  3 3 3 3 7 2 6 5 5\n",
      " $ CustServ.Calls: int  3 3 2 1 1 1 1 2 1\n"
     ]
    }
   ],
   "source": [
    "str(churn_score)"
   ]
  },
  {
   "cell_type": "code",
   "execution_count": 66,
   "metadata": {},
   "outputs": [
    {
     "name": "stdout",
     "output_type": "stream",
     "text": [
      "'data.frame':\t1404 obs. of  7 variables:\n",
      " $ Int.l.Plan    : Factor w/ 2 levels \"False\",\"True\": 1 1 1 1 1 2 1 1 1 1 ...\n",
      " $ VMail.Plan    : Factor w/ 2 levels \"False\",\"True\": 1 1 1 1 2 1 1 1 2 1 ...\n",
      " $ Day.Mins      : num  131 185 200 287 172 ...\n",
      " $ Intl.Mins     : num  15.6 14.1 11.3 6.9 11.8 13.8 9.7 8.9 10.3 7.2 ...\n",
      " $ Intl.Calls    : int  3 3 7 5 5 2 2 5 2 7 ...\n",
      " $ CustServ.Calls: int  3 3 1 2 1 1 3 1 0 1 ...\n",
      " $ Churn         : Factor w/ 2 levels \"False\",\"True\": 1 1 1 1 1 2 1 2 1 1 ...\n"
     ]
    }
   ],
   "source": [
    "str(churn_train)"
   ]
  },
  {
   "cell_type": "markdown",
   "metadata": {},
   "source": [
    "As the score dataset contains a reduced number of examples to be classified, the features may not have all the values present in the training phase. To solve this problem, we manually set the type of the wrong features: "
   ]
  },
  {
   "cell_type": "code",
   "execution_count": 67,
   "metadata": {
    "collapsed": true
   },
   "outputs": [],
   "source": [
    "levels(churn_score$Int.l.Plan) <- levels(churn_train$Int.l.Plan)"
   ]
  },
  {
   "cell_type": "markdown",
   "metadata": {},
   "source": [
    "Now we apply the model to get the class probabilities for the examples: "
   ]
  },
  {
   "cell_type": "code",
   "execution_count": 68,
   "metadata": {},
   "outputs": [
    {
     "data": {
      "text/html": [
       "<table>\n",
       "<thead><tr><th></th><th scope=col>False</th><th scope=col>True</th></tr></thead>\n",
       "<tbody>\n",
       "\t<tr><th scope=row>1</th><td>0.924</td><td>0.076</td></tr>\n",
       "\t<tr><th scope=row>2</th><td>1.000</td><td>0.000</td></tr>\n",
       "\t<tr><th scope=row>3</th><td>0.986</td><td>0.014</td></tr>\n",
       "\t<tr><th scope=row>4</th><td>0.980</td><td>0.020</td></tr>\n",
       "\t<tr><th scope=row>5</th><td>0.998</td><td>0.002</td></tr>\n",
       "\t<tr><th scope=row>6</th><td>0.996</td><td>0.004</td></tr>\n",
       "\t<tr><th scope=row>7</th><td>0.994</td><td>0.006</td></tr>\n",
       "\t<tr><th scope=row>8</th><td>0.444</td><td>0.556</td></tr>\n",
       "\t<tr><th scope=row>9</th><td>0.996</td><td>0.004</td></tr>\n",
       "</tbody>\n",
       "</table>\n"
      ],
      "text/latex": [
       "\\begin{tabular}{r|ll}\n",
       "  & False & True\\\\\n",
       "\\hline\n",
       "\t1 & 0.924 & 0.076\\\\\n",
       "\t2 & 1.000 & 0.000\\\\\n",
       "\t3 & 0.986 & 0.014\\\\\n",
       "\t4 & 0.980 & 0.020\\\\\n",
       "\t5 & 0.998 & 0.002\\\\\n",
       "\t6 & 0.996 & 0.004\\\\\n",
       "\t7 & 0.994 & 0.006\\\\\n",
       "\t8 & 0.444 & 0.556\\\\\n",
       "\t9 & 0.996 & 0.004\\\\\n",
       "\\end{tabular}\n"
      ],
      "text/markdown": [
       "\n",
       "| <!--/--> | False | True | \n",
       "|---|---|---|---|---|---|---|---|---|\n",
       "| 1 | 0.924 | 0.076 | \n",
       "| 2 | 1.000 | 0.000 | \n",
       "| 3 | 0.986 | 0.014 | \n",
       "| 4 | 0.980 | 0.020 | \n",
       "| 5 | 0.998 | 0.002 | \n",
       "| 6 | 0.996 | 0.004 | \n",
       "| 7 | 0.994 | 0.006 | \n",
       "| 8 | 0.444 | 0.556 | \n",
       "| 9 | 0.996 | 0.004 | \n",
       "\n",
       "\n"
      ],
      "text/plain": [
       "  False True \n",
       "1 0.924 0.076\n",
       "2 1.000 0.000\n",
       "3 0.986 0.014\n",
       "4 0.980 0.020\n",
       "5 0.998 0.002\n",
       "6 0.996 0.004\n",
       "7 0.994 0.006\n",
       "8 0.444 0.556\n",
       "9 0.996 0.004"
      ]
     },
     "metadata": {},
     "output_type": "display_data"
    }
   ],
   "source": [
    "prob <- predict(model.rforest, newdata=churn_score, type=\"prob\")\n",
    "prob"
   ]
  },
  {
   "cell_type": "markdown",
   "metadata": {},
   "source": [
    "And we classify them considering the different thresholds:"
   ]
  },
  {
   "cell_type": "code",
   "execution_count": 70,
   "metadata": {},
   "outputs": [
    {
     "data": {
      "text/html": [
       "<dl class=dl-horizontal>\n",
       "\t<dt>1</dt>\n",
       "\t\t<dd>FALSE</dd>\n",
       "\t<dt>2</dt>\n",
       "\t\t<dd>FALSE</dd>\n",
       "\t<dt>3</dt>\n",
       "\t\t<dd>FALSE</dd>\n",
       "\t<dt>4</dt>\n",
       "\t\t<dd>FALSE</dd>\n",
       "\t<dt>5</dt>\n",
       "\t\t<dd>FALSE</dd>\n",
       "\t<dt>6</dt>\n",
       "\t\t<dd>FALSE</dd>\n",
       "\t<dt>7</dt>\n",
       "\t\t<dd>FALSE</dd>\n",
       "\t<dt>8</dt>\n",
       "\t\t<dd>TRUE</dd>\n",
       "\t<dt>9</dt>\n",
       "\t\t<dd>FALSE</dd>\n",
       "</dl>\n"
      ],
      "text/latex": [
       "\\begin{description*}\n",
       "\\item[1] FALSE\n",
       "\\item[2] FALSE\n",
       "\\item[3] FALSE\n",
       "\\item[4] FALSE\n",
       "\\item[5] FALSE\n",
       "\\item[6] FALSE\n",
       "\\item[7] FALSE\n",
       "\\item[8] TRUE\n",
       "\\item[9] FALSE\n",
       "\\end{description*}\n"
      ],
      "text/markdown": [
       "1\n",
       ":   FALSE2\n",
       ":   FALSE3\n",
       ":   FALSE4\n",
       ":   FALSE5\n",
       ":   FALSE6\n",
       ":   FALSE7\n",
       ":   FALSE8\n",
       ":   TRUE9\n",
       ":   FALSE\n",
       "\n"
      ],
      "text/plain": [
       "    1     2     3     4     5     6     7     8     9 \n",
       "FALSE FALSE FALSE FALSE FALSE FALSE FALSE  TRUE FALSE "
      ]
     },
     "metadata": {},
     "output_type": "display_data"
    }
   ],
   "source": [
    "prob[,2] > 0.5"
   ]
  },
  {
   "cell_type": "code",
   "execution_count": 71,
   "metadata": {},
   "outputs": [
    {
     "data": {
      "text/html": [
       "<dl class=dl-horizontal>\n",
       "\t<dt>1</dt>\n",
       "\t\t<dd>FALSE</dd>\n",
       "\t<dt>2</dt>\n",
       "\t\t<dd>FALSE</dd>\n",
       "\t<dt>3</dt>\n",
       "\t\t<dd>FALSE</dd>\n",
       "\t<dt>4</dt>\n",
       "\t\t<dd>FALSE</dd>\n",
       "\t<dt>5</dt>\n",
       "\t\t<dd>FALSE</dd>\n",
       "\t<dt>6</dt>\n",
       "\t\t<dd>FALSE</dd>\n",
       "\t<dt>7</dt>\n",
       "\t\t<dd>FALSE</dd>\n",
       "\t<dt>8</dt>\n",
       "\t\t<dd>FALSE</dd>\n",
       "\t<dt>9</dt>\n",
       "\t\t<dd>FALSE</dd>\n",
       "</dl>\n"
      ],
      "text/latex": [
       "\\begin{description*}\n",
       "\\item[1] FALSE\n",
       "\\item[2] FALSE\n",
       "\\item[3] FALSE\n",
       "\\item[4] FALSE\n",
       "\\item[5] FALSE\n",
       "\\item[6] FALSE\n",
       "\\item[7] FALSE\n",
       "\\item[8] FALSE\n",
       "\\item[9] FALSE\n",
       "\\end{description*}\n"
      ],
      "text/markdown": [
       "1\n",
       ":   FALSE2\n",
       ":   FALSE3\n",
       ":   FALSE4\n",
       ":   FALSE5\n",
       ":   FALSE6\n",
       ":   FALSE7\n",
       ":   FALSE8\n",
       ":   FALSE9\n",
       ":   FALSE\n",
       "\n"
      ],
      "text/plain": [
       "    1     2     3     4     5     6     7     8     9 \n",
       "FALSE FALSE FALSE FALSE FALSE FALSE FALSE FALSE FALSE "
      ]
     },
     "metadata": {},
     "output_type": "display_data"
    }
   ],
   "source": [
    "prob[,2] > 1-threshold"
   ]
  },
  {
   "cell_type": "code",
   "execution_count": null,
   "metadata": {
    "collapsed": true
   },
   "outputs": [],
   "source": []
  }
 ],
 "metadata": {
  "kernelspec": {
   "display_name": "R",
   "language": "R",
   "name": "ir"
  },
  "language_info": {
   "codemirror_mode": "r",
   "file_extension": ".r",
   "mimetype": "text/x-r-source",
   "name": "R",
   "pygments_lexer": "r",
   "version": "3.4.1"
  }
 },
 "nbformat": 4,
 "nbformat_minor": 2
}
